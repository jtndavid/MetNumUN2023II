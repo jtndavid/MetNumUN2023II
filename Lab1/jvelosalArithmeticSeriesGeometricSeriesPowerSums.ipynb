{
  "nbformat": 4,
  "nbformat_minor": 0,
  "metadata": {
    "colab": {
      "provenance": [],
      "include_colab_link": true
    },
    "kernelspec": {
      "name": "python3",
      "display_name": "Python 3"
    }
  },
  "cells": [
    {
      "cell_type": "markdown",
      "metadata": {
        "id": "view-in-github",
        "colab_type": "text"
      },
      "source": [
        "<a href=\"https://colab.research.google.com/github/jtnvv/MetNumUN2023II/blob/main/Lab1/jvelosalArithmeticSeriesGeometricSeriesPowerSums.ipynb\" target=\"_parent\"><img src=\"https://colab.research.google.com/assets/colab-badge.svg\" alt=\"Open In Colab\"/></a>"
      ]
    },
    {
      "cell_type": "markdown",
      "source": [
        "## Name: Jonathan D Velosa L\n",
        "## Number in the list: 49\n",
        "## Last digit of the number in the list: 9"
      ],
      "metadata": {
        "id": "cCviDt110JYB"
      }
    },
    {
      "cell_type": "markdown",
      "metadata": {
        "id": "r4rXWI4gCN5B"
      },
      "source": [
        "# Arithmetic Series\n",
        "\n",
        "## Modified from Arithmetic Series -  [Wolfram MathWorld](https://mathworld.wolfram.com/ArithmeticSeries.html) - [wikipedia](https://en.wikipedia.org/wiki/Arithmetic_progression)\n",
        "\n",
        "\n",
        "An arithmetic sequence $\\{a_k\\}$ for $k=1, 2, ..., $ in which each term is computed from the previous one by adding (or subtracting) a constant $d$.\n",
        "\n",
        "\\begin{align*}\n",
        "a_1 & \\\\\n",
        "a_2 &\\ \\ =\\ \\ a_1 + d  \\\\\n",
        "a_3 &\\ \\ =\\ \\ a_2 + d \\ \\ =\\ \\ a_1 + 2d   \\\\\n",
        "a_4 &\\ \\ =\\ \\ a_3 + d \\ \\ =\\ \\ a_2 + 2d \\ \\ =\\ \\ a_1 + 3d  \\\\\n",
        "\\vdots\\\\\n",
        "a_k &\\ \\ =\\ \\ a_{(k-1)}+d \\ =\\  a_{(k-2)}+2d \\ =\\  \\ldots \\ =\\  \\ a_1+(k-1)d\n",
        "\\end{align*}\n",
        "\n",
        "Therefore, for $k>=1$,\n",
        "\n",
        "$$ a_k = a_1 + (k-1)d$$\n",
        "\n",
        "With $a_1$ and $d$ given.\n",
        "\n",
        "<br />\n",
        "\n",
        "The sequence of the partial sum of the first $n$ terms of a sequence is called a series, in the case of an arithemetic sequence the series is called an arithmetic series.\n",
        "\n",
        "If  $a_1= 1$ and $d=1$ we have, the simplest arithmnetic sequence,  the natural numbers sequence $\\{a_k = k \\}$ for  $k=1, 2, ..., $  i.e. the seuqnece\n",
        "$$1, 2, ...,$$\n",
        "The  corresponding series is\n",
        "$$\n",
        "S_n = 1 + 2+ \\ldots + (n-1)+ n = \\sum_{k=1}^n k\n",
        "$$\n",
        "can be calculated as a function of $n$.\n",
        "\n",
        "Assume that we allign one $S_{n-1}$ with a second  $S_{n-1}$ that have the terms adden reverse order and you add term to term, we have\n",
        "\\begin{array}{llclclclclc}\n",
        "  S_{n-1} &=& 1 &+& 2 &+& \\ldots &+& (n-2) &+& (n-1) \\\\\n",
        "  S_{n-1} &=& (n-1)  &+& (n-2)  &+& \\ldots   &+& 2   &+& 1 \\\\\n",
        "   \\hline \\\\\n",
        "   2S_{n-1} &=& n  &+& n  &+& \\ldots   &+& n   &+& n \\\\\n",
        "\\end{array}\n",
        "so\n",
        "$$  2S_{n-1} = (n-1)n $$\n",
        "then\n",
        "$$  S_{n-1} = \\frac{1}{2} (n-1)n$$\n",
        "therefore\n",
        "$$  S_{n} = \\frac{1}{2} n(n+1)$$\n",
        "\n",
        "\n",
        "\\begin{align*}\n",
        "S_n &= \\sum_{k=1}^n a_k\t\\\\\n",
        "    &= \\sum_{k=1}^n[a_1+(k-1)d]\t\t\\\\\n",
        "    &= na_1 + d \\sum_{k=1}^n(k-1)\t\\\\\n",
        "    &= na_1 + d \\sum_{k=0}^{n-1} k\t\\\\\n",
        "    &= na_1 + d \\sum_{k=1}^{n-1} k\t\\\\\n",
        "    &= na_1 +  \\frac{1}{2} d(n-1)n\\\\\n",
        "\\end{align*}\n",
        "so\n",
        "$$ S_n =  \\frac{1}{2} n[2 a_1 +d(n-1)].$$\n",
        "\n",
        "Note, however, that\n",
        "$$a_1+a_n=a_1+[a_1+d(n-1)]=2a_1+d(n-1),$$\n",
        "so\n",
        "$$S_n = \\frac{1}{2}n(a_1+a_n),$$\n",
        "\n",
        "\n",
        "or $n$ times the arithmetic mean of the first and last terms! This is the trick Gauss used as a schoolboy to solve the problem of summing the integers from $1$ to $100$ given as busy-work by his teacher. While his classmates toiled away doing the addition longhand, Gauss wrote a single number, the correct answer\n",
        "\n",
        "$$\\frac{1}{2}(100)(1+100)=50·101=5050$$\n",
        "on his slate (Burton 1989, pp. 80-81; Hoffman 1998, p. 207). When the answers were examined, Gauss's proved to be the only correct one.\n",
        "\n",
        "<br />\n",
        "\n",
        "If  the sequence starts at index $0$, $\\{a_k\\}$ for $ k=0, 1, 2, ..., $ we have\n",
        "\n",
        "\\begin{align*}\n",
        "a_0 & \\\\\n",
        "a_1 &\\ \\ =\\ \\ a_0 + d  \\\\\n",
        "a_2 &\\ \\ =\\ \\ a_1 + d \\ \\ =\\ \\ a_0 + 2d   \\\\\n",
        "a_3 &\\ \\ =\\ \\ a_2 + d \\ \\ =\\ \\ a_1 + 2d \\ \\ =\\ \\ a_0 + 3d  \\\\\n",
        "\\vdots\\\\\n",
        "a_k &\\ \\ =\\ \\ a_{(k-1)}+d \\ =\\  a_{(k-2)}+2d \\ =\\  \\ldots \\ = \\  \\ a_1+(k-1)d \\ \\ =\\ \\ a_0+kd\n",
        "\\end{align*}\n",
        "\n",
        "<br />\n",
        "for given   $a_0$ and $d$.\n",
        "\n",
        "In this case the sum of the terms between $0$ and $n$ of  the arithemnetic sequence  is then given by\n",
        "\\begin{align*}\n",
        "S_n &= \\sum_{k=0}^{n} a_k\t\\\\\n",
        "    &= \\sum_{k=0}^{n}[a_0+kd]\t\t\\\\\n",
        "    &= (n+1) a_0 + d \\sum_{k=0}^{n} k\t\\\\\n",
        "    &= (n+1) a_0 + d \\sum_{k=1}^{} k\t\\\\\n",
        "    &=(n+1) a_0+  \\frac{1}{2} dn(n+1) \\\\\n",
        "\\end{align*}\n",
        "so\n",
        "$$ S_n =  \\frac{1}{2} (n+1)[2 a_0 + dn].$$\n",
        "<br />\n",
        "$$ S_n =  \\frac{1}{2} (n+1)[a_0+ a_n].$$\n",
        "\n",
        "\n"
      ]
    },
    {
      "cell_type": "markdown",
      "metadata": {
        "id": "GfBh-QHRcods"
      },
      "source": [
        "### Code\n",
        "####  The simplest arithmetic sequence and series\n",
        "\n",
        "The simplest arithmnetic sequence is\n",
        "\n",
        "\n",
        "$$a_n = 1, 2, ...,$$"
      ]
    },
    {
      "cell_type": "markdown",
      "metadata": {
        "id": "n36eWqEXiktl"
      },
      "source": [
        "The following code plots the first $n = 15$ terms of the simplest arithmnetic sequence\n",
        "$$\\{a_n = n\\} \\text{ for } n =1,2,\\ldots  $$\n",
        "i.e\n",
        "$$\\{a_n = n\\} =1,2,\\ldots $$\n",
        "adn the corresponding terms of the simplest arithmnetic series\n",
        "$$  S_n = 1 + 2+ \\ldots + (n-1)+ n = \\sum_{k=1}^n k=  \\frac{1}{2} n(n+1)$$\n"
      ]
    },
    {
      "cell_type": "markdown",
      "metadata": {
        "id": "_VyGiunIZknK"
      },
      "source": [
        "Plot"
      ]
    },
    {
      "cell_type": "code",
      "metadata": {
        "colab": {
          "base_uri": "https://localhost:8080/",
          "height": 448
        },
        "id": "gx3Q4uo-ONCi",
        "outputId": "15da7ab8-4ff7-4d6f-eb2f-5227cb46ed5f"
      },
      "source": [
        "import matplotlib.pyplot as plt\n",
        "\n",
        "n = 15\n",
        "S_n = 0\n",
        "Serie_S_n=[]\n",
        "Sequence_a_n =[]\n",
        "for i in range(1,n+1):\n",
        "  S_n = S_n + i\n",
        "  Serie_S_n.append(S_n)\n",
        "  Sequence_a_n.append(i)\n",
        "\n",
        "\n",
        "plt.plot(Serie_S_n, color='black',label='Serie_S_n')\n",
        "plt.plot(Sequence_a_n, color='red',label='Sequence_a_n')\n",
        "plt.legend()"
      ],
      "execution_count": null,
      "outputs": [
        {
          "output_type": "execute_result",
          "data": {
            "text/plain": [
              "<matplotlib.legend.Legend at 0x7892d76973d0>"
            ]
          },
          "metadata": {},
          "execution_count": 9
        },
        {
          "output_type": "display_data",
          "data": {
            "text/plain": [
              "<Figure size 640x480 with 1 Axes>"
            ],
            "image/png": "[encoded data removed]"
          },
          "metadata": {}
        }
      ]
    },
    {
      "cell_type": "code",
      "metadata": {
        "colab": {
          "base_uri": "https://localhost:8080/"
        },
        "id": "o2es6b4cysQk",
        "outputId": "ca7a45c1-b03e-4741-e5d8-ada1146ea0e5"
      },
      "source": [
        "Sequence_a_n"
      ],
      "execution_count": null,
      "outputs": [
        {
          "output_type": "execute_result",
          "data": {
            "text/plain": [
              "[1, 2, 3, 4, 5, 6, 7, 8, 9, 10, 11, 12, 13, 14, 15]"
            ]
          },
          "metadata": {},
          "execution_count": 10
        }
      ]
    },
    {
      "cell_type": "code",
      "metadata": {
        "colab": {
          "base_uri": "https://localhost:8080/"
        },
        "id": "T2VeBOBZ0ibg",
        "outputId": "5d929342-907b-4131-bb5d-059cd8681f4d"
      },
      "source": [
        "Serie_S_n"
      ],
      "execution_count": null,
      "outputs": [
        {
          "output_type": "execute_result",
          "data": {
            "text/plain": [
              "[1, 3, 6, 10, 15, 21, 28, 36, 45, 55, 66, 78, 91, 105, 120]"
            ]
          },
          "metadata": {},
          "execution_count": 11
        }
      ]
    },
    {
      "cell_type": "markdown",
      "metadata": {
        "id": "0ybfJdHxZGvW"
      },
      "source": [
        "The following code computes the  $n=10000000$  term of the airthmetic series\n",
        "$$  S_n = 1 + 2+ \\ldots + (n-1)+ n = \\sum_{k=1}^n =  \\frac{1}{2} n(n+1)$$"
      ]
    },
    {
      "cell_type": "code",
      "metadata": {
        "colab": {
          "base_uri": "https://localhost:8080/"
        },
        "id": "99xYHDQycnol",
        "outputId": "c75a78e5-e297-4eac-ccc3-dd8005f8d52e"
      },
      "source": [
        "n = 10000000\n",
        "S_n = 0\n",
        "for i in range(1,n+1):  # range(n+1) goes form 1 to n\n",
        "  S_n = S_n + i\n",
        "print(S_n)"
      ],
      "execution_count": null,
      "outputs": [
        {
          "output_type": "stream",
          "name": "stdout",
          "text": [
            "50000005000000\n"
          ]
        }
      ]
    },
    {
      "cell_type": "code",
      "metadata": {
        "colab": {
          "base_uri": "https://localhost:8080/"
        },
        "id": "RGCSuDGHeFwH",
        "outputId": "61fbf058-c220-4a1e-af3c-c20c7c931889"
      },
      "source": [
        "(1/2)*n*(n+1)"
      ],
      "execution_count": null,
      "outputs": [
        {
          "output_type": "execute_result",
          "data": {
            "text/plain": [
              "50000005000000.0"
            ]
          },
          "metadata": {},
          "execution_count": 13
        }
      ]
    },
    {
      "cell_type": "markdown",
      "metadata": {
        "id": "bg8zxAhcecpk"
      },
      "source": [
        "The following code computes the $n=10000000$ term of the airthmetic series\n",
        "$$ S_n  = \\sum_{k=1}^n a_k$$\n",
        "\n",
        "<br />\n",
        "for the airthmetic sequence $a_k = 10 + 3 (k-1) $ for $k=1,2,\\ldots$\n",
        "\n",
        "<br />\n",
        "$$ 10,13,16,19,21,\\ldots$$\n"
      ]
    },
    {
      "cell_type": "markdown",
      "metadata": {
        "id": "hg3ixQ3bZiVh"
      },
      "source": [
        "Plot"
      ]
    },
    {
      "cell_type": "code",
      "metadata": {
        "colab": {
          "base_uri": "https://localhost:8080/"
        },
        "id": "w8FP1XqSgnie",
        "outputId": "0ec27e50-f77e-47f0-94ad-569295f75955"
      },
      "source": [
        "n = 10000000\n",
        "a = 10\n",
        "d = 3\n",
        "S_n = 0\n",
        "for i in range(1,n+1):  # range(n+19 goes form 1 to n\n",
        "  a_n = a + d * (i-1)\n",
        "  S_n = S_n + a_n\n",
        "print(S_n)"
      ],
      "execution_count": null,
      "outputs": [
        {
          "output_type": "stream",
          "name": "stdout",
          "text": [
            "150000085000000\n"
          ]
        }
      ]
    },
    {
      "cell_type": "code",
      "metadata": {
        "colab": {
          "base_uri": "https://localhost:8080/"
        },
        "id": "g_38RfB_hgg2",
        "outputId": "89eb914f-380d-4287-de02-86465b72be45"
      },
      "source": [
        "n*(2*a +d*(n-1))/2"
      ],
      "execution_count": null,
      "outputs": [
        {
          "output_type": "execute_result",
          "data": {
            "text/plain": [
              "150000085000000.0"
            ]
          },
          "metadata": {},
          "execution_count": 15
        }
      ]
    },
    {
      "cell_type": "code",
      "metadata": {
        "colab": {
          "base_uri": "https://localhost:8080/"
        },
        "id": "zS3qb_xE1u58",
        "outputId": "2df97c6f-7310-4faa-998b-47358f83bcab"
      },
      "source": [
        "n*(a +a_n)/2"
      ],
      "execution_count": null,
      "outputs": [
        {
          "output_type": "execute_result",
          "data": {
            "text/plain": [
              "150000085000000.0"
            ]
          },
          "metadata": {},
          "execution_count": 16
        }
      ]
    },
    {
      "cell_type": "code",
      "metadata": {
        "colab": {
          "base_uri": "https://localhost:8080/",
          "height": 450
        },
        "id": "7qesKez70zub",
        "outputId": "55e8f373-ecd1-4039-907b-a0b049ba41ee"
      },
      "source": [
        "import matplotlib.pyplot as plt\n",
        "\n",
        "n = 20\n",
        "a = 10\n",
        "d = 3\n",
        "S_n = 0\n",
        "Serie_S_n=[]\n",
        "Sequence_a_n =[]\n",
        "for i in range(1,n+1):  # range(n+19 goes form 1 to n\n",
        "  a_n = a + d * (i-1)\n",
        "  S_n = S_n + a_n\n",
        "  Serie_S_n.append(S_n)\n",
        "  Sequence_a_n.append(a_n)\n",
        "\n",
        "plt.plot(Serie_S_n, color='black',label='Serie_S_n')\n",
        "plt.plot(Sequence_a_n, color='red',label='Sequence_a_n')\n",
        "plt.legend()"
      ],
      "execution_count": null,
      "outputs": [
        {
          "output_type": "execute_result",
          "data": {
            "text/plain": [
              "<matplotlib.legend.Legend at 0x7892d5ca7070>"
            ]
          },
          "metadata": {},
          "execution_count": 17
        },
        {
          "output_type": "display_data",
          "data": {
            "text/plain": [
              "<Figure size 640x480 with 1 Axes>"
            ],
            "image/png": "[encoded data removed]"
          },
          "metadata": {}
        }
      ]
    },
    {
      "cell_type": "markdown",
      "metadata": {
        "id": "r9qzONSlZq2q"
      },
      "source": [
        "## Your own example of arithmetic series $a_1$ is your list number and $d$ as the last digit of the your list number\n"
      ]
    },
    {
      "cell_type": "code",
      "metadata": {
        "id": "SrJ_dPxS0pwP",
        "colab": {
          "base_uri": "https://localhost:8080/",
          "height": 448
        },
        "outputId": "20c4a159-ad90-4397-85cf-7f6a9229aea8"
      },
      "source": [
        "import matplotlib.pyplot as plt\n",
        "\n",
        "n = 55\n",
        "a = 49\n",
        "d = 9\n",
        "S_n = 0\n",
        "Serie_S_n=[]\n",
        "Sequence_a_n =[]\n",
        "for i in range(1,n+1):  # range(n+19 goes form 1 to n\n",
        "  a_n = a + d * (i-1)\n",
        "  S_n = S_n + a_n\n",
        "  Serie_S_n.append(S_n)\n",
        "  Sequence_a_n.append(a_n)\n",
        "\n",
        "plt.plot(Serie_S_n, color='black',label='Serie_S_n')\n",
        "plt.plot(Sequence_a_n, color='red',label='Sequence_a_n')\n",
        "plt.legend()"
      ],
      "execution_count": 1,
      "outputs": [
        {
          "output_type": "execute_result",
          "data": {
            "text/plain": [
              "<matplotlib.legend.Legend at 0x7cd06bf31960>"
            ]
          },
          "metadata": {},
          "execution_count": 1
        },
        {
          "output_type": "display_data",
          "data": {
            "text/plain": [
              "<Figure size 640x480 with 1 Axes>"
            ],
            "image/png": "[encoded data removed]"
          },
          "metadata": {}
        }
      ]
    },
    {
      "cell_type": "code",
      "source": [
        "print(Sequence_a_n)"
      ],
      "metadata": {
        "colab": {
          "base_uri": "https://localhost:8080/"
        },
        "id": "3Cz5-w7EPots",
        "outputId": "5a4ecefb-08f8-4d13-b546-d5785f9819c9"
      },
      "execution_count": 2,
      "outputs": [
        {
          "output_type": "stream",
          "name": "stdout",
          "text": [
            "[49, 58, 67, 76, 85, 94, 103, 112, 121, 130, 139, 148, 157, 166, 175, 184, 193, 202, 211, 220, 229, 238, 247, 256, 265, 274, 283, 292, 301, 310, 319, 328, 337, 346, 355, 364, 373, 382, 391, 400, 409, 418, 427, 436, 445, 454, 463, 472, 481, 490, 499, 508, 517, 526, 535]\n"
          ]
        }
      ]
    },
    {
      "cell_type": "code",
      "source": [
        "print(Serie_S_n)"
      ],
      "metadata": {
        "colab": {
          "base_uri": "https://localhost:8080/"
        },
        "id": "3DCX4fhiQOQs",
        "outputId": "2e7a825e-52f2-411b-c689-064feed506c5"
      },
      "execution_count": 3,
      "outputs": [
        {
          "output_type": "stream",
          "name": "stdout",
          "text": [
            "[49, 107, 174, 250, 335, 429, 532, 644, 765, 895, 1034, 1182, 1339, 1505, 1680, 1864, 2057, 2259, 2470, 2690, 2919, 3157, 3404, 3660, 3925, 4199, 4482, 4774, 5075, 5385, 5704, 6032, 6369, 6715, 7070, 7434, 7807, 8189, 8580, 8980, 9389, 9807, 10234, 10670, 11115, 11569, 12032, 12504, 12985, 13475, 13974, 14482, 14999, 15525, 16060]\n"
          ]
        }
      ]
    },
    {
      "cell_type": "code",
      "source": [
        "print(S_n) #suma"
      ],
      "metadata": {
        "colab": {
          "base_uri": "https://localhost:8080/"
        },
        "id": "jHqHOHdiQvXs",
        "outputId": "065f40a2-1dfd-4361-805f-46a85d778609"
      },
      "execution_count": 4,
      "outputs": [
        {
          "output_type": "stream",
          "name": "stdout",
          "text": [
            "16060\n"
          ]
        }
      ]
    },
    {
      "cell_type": "code",
      "source": [
        "print(n*(a +a_n)/2) #formula 1"
      ],
      "metadata": {
        "colab": {
          "base_uri": "https://localhost:8080/"
        },
        "id": "68oJAsBFRfdo",
        "outputId": "adaab4c3-c411-421a-9ee7-cd502dae7c86"
      },
      "execution_count": 5,
      "outputs": [
        {
          "output_type": "stream",
          "name": "stdout",
          "text": [
            "16060.0\n"
          ]
        }
      ]
    },
    {
      "cell_type": "code",
      "source": [
        "print(n*(2*a +d*(n-1))/2) #formula 2"
      ],
      "metadata": {
        "colab": {
          "base_uri": "https://localhost:8080/"
        },
        "id": "8IgE_K9eRoON",
        "outputId": "0da95194-ba98-4101-d8e3-c0dd6ce04805"
      },
      "execution_count": 6,
      "outputs": [
        {
          "output_type": "stream",
          "name": "stdout",
          "text": [
            "16060.0\n"
          ]
        }
      ]
    },
    {
      "cell_type": "markdown",
      "metadata": {
        "id": "AKWJ1F7hac8T"
      },
      "source": [
        "# Geometric Series\n",
        "\n",
        "## Modified from Geometric Series -  [Wolfram MathWorld](https://mathworld.wolfram.com/GeometricSeries.html) - [wikipedia](https://en.wikipedia.org/wiki/Geometric_series)\n"
      ]
    },
    {
      "cell_type": "markdown",
      "metadata": {
        "id": "W5zx_-nR81GI"
      },
      "source": [
        "An geometric series is the sum of a sequence $\\{a_k\\}$ for $k=1, 2, ..., $ in which each term is computed from the previous  by multipliying constant $r$ and starts with 1.\n",
        "\n",
        "\\begin{align*}\n",
        "a_0 &\\ \\ =\\ \\ r^0 \\ \\ =\\ \\ 1\\\\\n",
        "a_1 &\\ \\ =\\ \\ a_0 *  r \\ \\ =\\ \\  r\\\\\n",
        "a_2 &\\ \\ =\\ \\ a_1 * r\\ \\ =\\ \\ a_0 * r^2  \\ \\ =\\ \\ r^2 \\\\\n",
        "a_3 &\\ \\ =\\ \\ a_2 * r \\ \\ =\\ \\ a_0 * r^3 \\ \\ =\\ \\  r^3  \\\\\n",
        "a_4 &\\ \\ =\\ \\ a_3 * r\\ \\  =\\ \\ a_0 * r^4 \\ \\  =\\ \\ r^4  \\\\\n",
        "\\vdots\\\\\n",
        "a_k &\\ \\ =\\ \\ a_{(k-1)}* r \\ =\\   a_0 * r^k \\ \\  =\\ \\  r^k\n",
        "\\end{align*}\n",
        "\n",
        "The sum of the first $n$ terms  of  the geometric sequence (called an geometric serie)  is then given by\n",
        "$$\n",
        "\\begin{array}{ll}\n",
        "S_n &=  1 + r + r^2 + \\cdots + r^{n-1} +r^n \\\\\n",
        " &=  (1 + r + r^2 + \\cdots + r^{n-1} ) +r^n \\\\\n",
        " &= S_{n-1}  +r^n\n",
        "\\end{array}\n",
        "$$\n",
        "\n",
        "$$\n",
        "\\begin{array}{ll}\n",
        "S_n &=  1 + r + r^2 + \\cdots + r^{n-1} +r^n \\\\\n",
        " &=  1 + (r + r^2 + \\cdots + r^{n-1}  +r^n)  \\\\\n",
        " &=   1 + r (1 +  r  + r^2 + \\cdots + r^{n-1} )  \\\\\n",
        "  &=   1 + r   S_{n-1}\n",
        "\\end{array}\n",
        "$$\n",
        "\n",
        "Then\n",
        "$$\n",
        " S_{n-1}  +r^n =   1 + r   S_{n-1}\n",
        "$$\n",
        "\n",
        "Therefore\n",
        "$$\n",
        " S_{n-1} (1 -r)   +r^n =   1 - r^n\n",
        "$$\n",
        "\n",
        "$$\n",
        " S_{n-1}   =   \\frac{1 - r^n }{1 -r}\n",
        "$$\n",
        "\n",
        "$$\n",
        " S_{n}   =   \\frac{1 - r^{n+1} }{1 -r}  = \\frac{ r^{n+1} - 1}{r -1}\n",
        "$$\n"
      ]
    },
    {
      "cell_type": "markdown",
      "metadata": {
        "id": "CDUYfT8k8crr"
      },
      "source": [
        "## Nodes in Complete Binary Tree with $L=0,1,2,\\cdots , L-1$ levels\n",
        "\n",
        "![](https://raw.githubusercontent.com/gjhernandezp/algorithms/master/Lab7/ComBinTree.png)\n",
        "\n",
        "In a complete binary tree you have in ecah level $k =0,1,2,\\cdots $  $ 2^k $\n",
        "\n",
        "$$\n",
        "\\begin{array}{ll}\n",
        "\\text {Level } 0 \\rightarrow 2^0 = 1 \\text { node (root)} \\\\\n",
        "\\text {Level } 1 \\rightarrow 2^1 = 2 \\text { nodes} \\\\\n",
        "\\text {Level } 2 \\rightarrow 2^2 = 4 \\text { nodes} \\\\\n",
        "\\text {Level } 3 \\rightarrow 2^3 = 8 \\text { nodes} \\\\\n",
        "\\vdots\\\\\n",
        "\\text {Level } k \\rightarrow 2^k  \\text { nodes} \\\\\n",
        "\\end{array}\n",
        "$$\n",
        "\n",
        "nodes, with $l = 0,1,2, ... $ the level\n",
        "\n",
        "Total number of the complte tree with $L=0,1,2,\\cdots , L-1$ levels\n",
        "\n",
        "$$\n",
        "2^0 + 2^1 + 2^2 + \\cdots +2^{L-1}  = 1 + 2 + 4 + \\cdots +2^{L-1} = \\sum_{k=0}^{L-1} 2^k = \\frac{ 2^{L} - 1}{2 -1} = 2^{L} - 1\n",
        "$$"
      ]
    },
    {
      "cell_type": "markdown",
      "metadata": {
        "id": "YiWlrhLZNMX9"
      },
      "source": [
        "## Add the a geometric series with $r =2$ up to 10** 6 and verify with the formula.  "
      ]
    },
    {
      "cell_type": "code",
      "metadata": {
        "id": "YvMkYU8UNOll"
      },
      "source": [
        "sequence_sn = []\n",
        "serie_an = []\n",
        "n = 20\n",
        "r = 2\n",
        "S_n = 0\n",
        "for k in range(0, n+1):\n",
        "  a_k = r**k\n",
        "  S_n += a_k\n",
        "  sequence_sn.append(S_n)\n",
        "  serie_an.append(a_k)"
      ],
      "execution_count": null,
      "outputs": []
    },
    {
      "cell_type": "code",
      "source": [
        "print(f\"Codigo: {S_n}\")\n",
        "print(f\"Formula: {2**(n+1)-1}\")\n",
        "# suma"
      ],
      "metadata": {
        "colab": {
          "base_uri": "https://localhost:8080/"
        },
        "id": "MvXOsyE7Tshu",
        "outputId": "b111b722-f231-4a1e-aef3-0f671aadab89"
      },
      "execution_count": null,
      "outputs": [
        {
          "output_type": "stream",
          "name": "stdout",
          "text": [
            "Codigo: 2097151\n",
            "Formula: 2097151\n"
          ]
        }
      ]
    },
    {
      "cell_type": "markdown",
      "source": [
        "## Plot and  print the first 20 terms and the partial sums."
      ],
      "metadata": {
        "id": "8r3Zd8o1lQcl"
      }
    },
    {
      "cell_type": "code",
      "source": [
        "plt.plot(sequence_sn, color='black',label='sequence_sn')\n",
        "plt.plot(serie_an, color='red',label='serie_an')\n",
        "plt.legend()\n",
        "# Cuando r=2"
      ],
      "metadata": {
        "id": "tRXX3fEQlQzw",
        "outputId": "77a693d7-4f92-4af4-ac29-71c23bb3c77e",
        "colab": {
          "base_uri": "https://localhost:8080/",
          "height": 463
        }
      },
      "execution_count": null,
      "outputs": [
        {
          "output_type": "execute_result",
          "data": {
            "text/plain": [
              "<matplotlib.legend.Legend at 0x7eaa900ce0b0>"
            ]
          },
          "metadata": {},
          "execution_count": 4
        },
        {
          "output_type": "display_data",
          "data": {
            "text/plain": [
              "<Figure size 640x480 with 1 Axes>"
            ],
            "image/png": "[encoded data removed]"
          },
          "metadata": {}
        }
      ]
    },
    {
      "cell_type": "markdown",
      "source": [
        "## Your own examples of a geometric series with  $r =d+1$ with $d$  the last digit of the number in the list, add the series up to 10** 6 and verify with the formula."
      ],
      "metadata": {
        "id": "6gMT9MF6lZAn"
      }
    },
    {
      "cell_type": "code",
      "source": [
        "sequence_sn = []\n",
        "serie_an = []\n",
        "n = 20\n",
        "r = 10\n",
        "S_n = 0\n",
        "for k in range(0, n+1):\n",
        "  a_k = r**k\n",
        "  S_n += a_k\n",
        "  sequence_sn.append(S_n)\n",
        "  serie_an.append(a_k)"
      ],
      "metadata": {
        "id": "-C7qpSKtUY9n"
      },
      "execution_count": 7,
      "outputs": []
    },
    {
      "cell_type": "code",
      "source": [
        "print(f\"Codigo: {S_n}\")\n",
        "print(f\"Formula: {(r**(n+1)-1)/(r-1)}\")\n",
        "# suma"
      ],
      "metadata": {
        "colab": {
          "base_uri": "https://localhost:8080/"
        },
        "id": "dT_jygE6Ul2D",
        "outputId": "02079806-231c-49e3-f5e2-432d29e0c209"
      },
      "execution_count": 8,
      "outputs": [
        {
          "output_type": "stream",
          "name": "stdout",
          "text": [
            "Codigo: 111111111111111111111\n",
            "Formula: 1.1111111111111111e+20\n"
          ]
        }
      ]
    },
    {
      "cell_type": "markdown",
      "source": [
        "##  Plot the first 20 terms and the partial sums."
      ],
      "metadata": {
        "id": "Us0BhDp1lzqq"
      }
    },
    {
      "cell_type": "code",
      "source": [
        "plt.plot(sequence_sn, color='black',label='sequence_sn')\n",
        "plt.plot(serie_an, color='red',label='serie_an')\n",
        "plt.legend()\n",
        "# Cuando r=d+1"
      ],
      "metadata": {
        "id": "wVeZicd1ly7x",
        "outputId": "1e3e0e74-5f7e-439b-ac24-5d61f2a5243e",
        "colab": {
          "base_uri": "https://localhost:8080/",
          "height": 463
        }
      },
      "execution_count": 9,
      "outputs": [
        {
          "output_type": "execute_result",
          "data": {
            "text/plain": [
              "<matplotlib.legend.Legend at 0x7cd0683df610>"
            ]
          },
          "metadata": {},
          "execution_count": 9
        },
        {
          "output_type": "display_data",
          "data": {
            "text/plain": [
              "<Figure size 640x480 with 1 Axes>"
            ],
            "image/png": "[encoded data removed]"
          },
          "metadata": {}
        }
      ]
    },
    {
      "cell_type": "markdown",
      "metadata": {
        "id": "Dd3RWDwJe2xD"
      },
      "source": [
        "## Zenon Arrow\n",
        "\n",
        "![](https://raw.githubusercontent.com/gjhernandezp/algorithms/master/Lab7/zeno-paradox-arrow.png)\n",
        "\n",
        "Achilles and the tortoise - https://en.wikipedia.org/wiki/Zeno%27s_paradoxes\n",
        "\n",
        "\n",
        "\n",
        "$$\n",
        "\\lim_{n\\rightarrow \\infty} \\left\\{\\left(\\frac{1}{2}\\right)^0 + \\left(\\frac{1}{2}\\right)^1 +\\left(\\frac{1}{2}\\right)^2 + \\cdots +\\left(\\frac{1}{2}\\right)^{n} \\right\\} = \\lim_{n\\rightarrow \\infty} \\left\\{ 1 +\\frac{1}{2} + \\frac{1}{4} + \\frac{1}{8} + \\cdots +\\frac{1}{2^{n}}\\right\\}  = \\lim_{n\\rightarrow \\infty} \\sum_{k=0}^{n} \\left(\\frac{1}{2}\\right)^k = \\lim_{n\\rightarrow \\infty} \\frac{ 1- \\left(\\frac{1}{2}\\right)^n  }{1 - \\left(\\frac{1}{2}\\right) } = \\frac{ 1}{1 - \\left(\\frac{1}{2}\\right)} = 2\n",
        "$$"
      ]
    },
    {
      "cell_type": "markdown",
      "metadata": {
        "id": "R-J4EekBNPkd"
      },
      "source": [
        "## Sum the  geometric with  $r=\\frac{1}{2}$ add the series up to 10**3 and verify with the formula.\n"
      ]
    },
    {
      "cell_type": "code",
      "metadata": {
        "id": "8xdBovY3NEW_"
      },
      "source": [
        "sequence_sn = []\n",
        "serie_an = []\n",
        "n = 60\n",
        "r = 1/2\n",
        "S_n = 0\n",
        "for k in range(0, n+1):\n",
        "  a_k = r**k\n",
        "  S_n += a_k\n",
        "  sequence_sn.append(S_n)\n",
        "  serie_an.append(a_k)"
      ],
      "execution_count": null,
      "outputs": []
    },
    {
      "cell_type": "code",
      "source": [
        "print(f\"Codigo: {S_n}\")\n",
        "print(f\"Formula: {(r**(n+1)-1)/(r-1)}\")\n",
        "# suma"
      ],
      "metadata": {
        "colab": {
          "base_uri": "https://localhost:8080/"
        },
        "id": "sEg_lm9jWRqb",
        "outputId": "fb9ed68b-618e-414b-b4c1-220b23162afc"
      },
      "execution_count": null,
      "outputs": [
        {
          "output_type": "stream",
          "name": "stdout",
          "text": [
            "Codigo: 2.0\n",
            "Formula: 2.0\n"
          ]
        }
      ]
    },
    {
      "cell_type": "markdown",
      "source": [
        "## Plot and print the first 60 terms and the partial sums."
      ],
      "metadata": {
        "id": "6zhIFWS4mNCK"
      }
    },
    {
      "cell_type": "code",
      "source": [
        "plt.plot(sequence_sn, color='black',label='sequence_sn')\n",
        "plt.plot(serie_an, color='red',label='serie_an')\n",
        "plt.legend()\n",
        "# Cuando r=1/2"
      ],
      "metadata": {
        "id": "IqSopntVmM0x",
        "outputId": "23a346d1-3264-4d88-a051-95039f82f1b1",
        "colab": {
          "base_uri": "https://localhost:8080/",
          "height": 448
        }
      },
      "execution_count": null,
      "outputs": [
        {
          "output_type": "execute_result",
          "data": {
            "text/plain": [
              "<matplotlib.legend.Legend at 0x7eaa8123df90>"
            ]
          },
          "metadata": {},
          "execution_count": 18
        },
        {
          "output_type": "display_data",
          "data": {
            "text/plain": [
              "<Figure size 640x480 with 1 Axes>"
            ],
            "image/png": "[encoded data removed]"
          },
          "metadata": {}
        }
      ]
    },
    {
      "cell_type": "markdown",
      "source": [
        "## Your own examples of a geometric series with $r=\\frac{1}{d+1}$  with $d$ add the series up to 10**3 and verify with the formula."
      ],
      "metadata": {
        "id": "9snyiG8-mTQZ"
      }
    },
    {
      "cell_type": "code",
      "source": [
        "sequence_sn = []\n",
        "serie_an = []\n",
        "n = 60\n",
        "r = 1/10\n",
        "S_n = 0\n",
        "for k in range(0, n+1):\n",
        "  a_k = r**k\n",
        "  S_n += a_k\n",
        "  sequence_sn.append(S_n)\n",
        "  serie_an.append(a_k)"
      ],
      "metadata": {
        "id": "SSbkilLzWa-c"
      },
      "execution_count": 10,
      "outputs": []
    },
    {
      "cell_type": "code",
      "source": [
        "print(f\"Codigo: {S_n}\")\n",
        "print(f\"Formula: {(r**(n+1)-1)/(r-1)}\")\n",
        "# suma"
      ],
      "metadata": {
        "colab": {
          "base_uri": "https://localhost:8080/"
        },
        "id": "UujAmU4xWkM1",
        "outputId": "11991a3b-645d-4834-8a3c-ade6df7c2f20"
      },
      "execution_count": 11,
      "outputs": [
        {
          "output_type": "stream",
          "name": "stdout",
          "text": [
            "Codigo: 1.1111111111111112\n",
            "Formula: 1.1111111111111112\n"
          ]
        }
      ]
    },
    {
      "cell_type": "markdown",
      "source": [
        "## Plot and print the first 60 terms and the partial sums."
      ],
      "metadata": {
        "id": "jUuT25cBmeAE"
      }
    },
    {
      "cell_type": "code",
      "source": [
        "plt.plot(sequence_sn, color='black',label='sequence_sn')\n",
        "plt.plot(serie_an, color='red',label='serie_an')\n",
        "plt.legend()\n",
        "# Cuando r=1/d+1"
      ],
      "metadata": {
        "id": "S6hL8QO4mmXo",
        "outputId": "183c0a04-e3ad-4f5a-821d-38c22be4db8c",
        "colab": {
          "base_uri": "https://localhost:8080/",
          "height": 448
        }
      },
      "execution_count": 12,
      "outputs": [
        {
          "output_type": "execute_result",
          "data": {
            "text/plain": [
              "<matplotlib.legend.Legend at 0x7cd068356b60>"
            ]
          },
          "metadata": {},
          "execution_count": 12
        },
        {
          "output_type": "display_data",
          "data": {
            "text/plain": [
              "<Figure size 640x480 with 1 Axes>"
            ],
            "image/png": "[encoded data removed]"
          },
          "metadata": {}
        }
      ]
    },
    {
      "cell_type": "markdown",
      "metadata": {
        "id": "dh2ntBeoNQlN"
      },
      "source": [
        "# Power Sums Power Sums - [Wolfram MathWorld](https://mathworld.wolfram.com/PowerSum.html) - [wikipedia](https://en.wikipedia.org/wiki/Sums_of_powers) - [reserachgate](https://www.researchgate.net/publication/331933608_The_Powers_Sums_Bernoulli_Numbers_Bernoulli_Polynomials_Rethinked)\n",
        "\n"
      ]
    },
    {
      "cell_type": "markdown",
      "source": [
        "## Your own example of power sum with $p =$ last digit in the list $+ 1$, i.e., the sum $1^p+2^p+\\cdots + n^p$  series up to  $n=10^6$  and verify with the formula."
      ],
      "metadata": {
        "id": "kSYU0kwMCBXB"
      }
    },
    {
      "cell_type": "code",
      "metadata": {
        "id": "2PyxzzOZVIdl"
      },
      "source": [
        "sequence_sn = []\n",
        "serie_an = []\n",
        "n = 20\n",
        "p = 10 #Code p = 9 + 1 (last digit=9)\n",
        "S_n = 0\n",
        "for k in range(1,n+1):\n",
        "  a_n = k ** (p)\n",
        "  S_n = S_n + a_n\n",
        "  sequence_sn.append(S_n)\n",
        "  serie_an.append(a_n)"
      ],
      "execution_count": 13,
      "outputs": []
    },
    {
      "cell_type": "code",
      "source": [
        "print(f\"Codigo: {S_n}\")\n",
        "print(f\"Formula: {(1/66)*(6*n**11+33*n**10+55*n**9-66*n**7+66*n**5-33*n**3+5*n)}\")\n",
        "# suma"
      ],
      "metadata": {
        "colab": {
          "base_uri": "https://localhost:8080/"
        },
        "id": "f9TM90hrX1ey",
        "outputId": "c1bcecac-c2fb-4033-bba6-abb00f04bade"
      },
      "execution_count": 24,
      "outputs": [
        {
          "output_type": "stream",
          "name": "stdout",
          "text": [
            "Codigo: 24163571680850\n",
            "Formula: 24163571680850.0\n"
          ]
        }
      ]
    },
    {
      "cell_type": "markdown",
      "source": [
        "## Plot the firtst 20 terms and the partial sums"
      ],
      "metadata": {
        "id": "mBrXFlJ9nQhc"
      }
    },
    {
      "cell_type": "code",
      "source": [
        "plt.plot(sequence_sn, color='black',label='sequence_sn')\n",
        "plt.plot(serie_an, color='red',label='serie_an')\n",
        "plt.legend()"
      ],
      "metadata": {
        "id": "Quw4IXsxnJQ4",
        "outputId": "5480d167-766f-4e54-922b-0b80b435d2ef",
        "colab": {
          "base_uri": "https://localhost:8080/",
          "height": 463
        }
      },
      "execution_count": 25,
      "outputs": [
        {
          "output_type": "execute_result",
          "data": {
            "text/plain": [
              "<matplotlib.legend.Legend at 0x7cd06811ac80>"
            ]
          },
          "metadata": {},
          "execution_count": 25
        },
        {
          "output_type": "display_data",
          "data": {
            "text/plain": [
              "<Figure size 640x480 with 1 Axes>"
            ],
            "image/png": "[encoded data removed]"
          },
          "metadata": {}
        }
      ]
    },
    {
      "cell_type": "markdown",
      "source": [
        "## Other example"
      ],
      "metadata": {
        "id": "cncBOSqDnspZ"
      }
    },
    {
      "cell_type": "code",
      "source": [
        "sequence_sn = []\n",
        "serie_an = []\n",
        "n = 20\n",
        "p = 1 #otro numero\n",
        "S_n = 0\n",
        "for k in range(1,n+1):\n",
        "  a_n = k ** (p)\n",
        "  S_n = S_n + a_n\n",
        "  sequence_sn.append(S_n)\n",
        "  serie_an.append(a_n)\n",
        "plt.plot(sequence_sn, color='black',label='sequence_sn')\n",
        "plt.plot(serie_an, color='red',label='serie_an')\n",
        "plt.legend()"
      ],
      "metadata": {
        "id": "KNGzim0W0PDm",
        "outputId": "9c90b55f-4792-4a3a-91a1-5f28acbe1d81",
        "colab": {
          "base_uri": "https://localhost:8080/",
          "height": 448
        }
      },
      "execution_count": null,
      "outputs": [
        {
          "output_type": "execute_result",
          "data": {
            "text/plain": [
              "<matplotlib.legend.Legend at 0x79d89159a260>"
            ]
          },
          "metadata": {},
          "execution_count": 8
        },
        {
          "output_type": "display_data",
          "data": {
            "text/plain": [
              "<Figure size 640x480 with 1 Axes>"
            ],
            "image/png": "[encoded data removed]"
          },
          "metadata": {}
        }
      ]
    },
    {
      "cell_type": "code",
      "source": [
        "print(f\"Codigo: {S_n}\")\n",
        "print(f\"Formula: {(1/2)*n*(n+1)}\")\n",
        "# suma"
      ],
      "metadata": {
        "id": "ZCBQSwip02v-",
        "outputId": "9198d072-a544-4123-a708-62a2128786b6",
        "colab": {
          "base_uri": "https://localhost:8080/"
        }
      },
      "execution_count": null,
      "outputs": [
        {
          "output_type": "stream",
          "name": "stdout",
          "text": [
            "Codigo: 210\n",
            "Formula: 210.0\n"
          ]
        }
      ]
    }
  ]
}